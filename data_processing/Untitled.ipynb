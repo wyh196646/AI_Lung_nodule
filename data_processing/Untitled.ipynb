{
 "cells": [
  {
   "cell_type": "code",
   "execution_count": 1,
   "id": "fb43a6a5",
   "metadata": {},
   "outputs": [],
   "source": [
    "from __future__ import print_function\n",
    "%matplotlib inline\n",
    "import matplotlib.pyplot as plt\n",
    "from ipywidgets import interact, FloatSlider\n",
    "import SimpleITK as sitk\n",
    "from myshow import myshow, myshow3d\n"
   ]
  },
  {
   "cell_type": "code",
   "execution_count": 11,
   "id": "c39ae5c2",
   "metadata": {},
   "outputs": [],
   "source": [
    "img_T1 = '/home/wyh21/AI_Lung_node/sample_data/0000301739/0000301739__4.nii.gz'\n",
    "seg = '/home/wyh21/AI_Lung_node/sample_data/0000301739/Mask_4.nii.gz'\n"
   ]
  },
  {
   "cell_type": "code",
   "execution_count": 12,
   "id": "78b20bda",
   "metadata": {},
   "outputs": [
    {
     "data": {
      "application/vnd.jupyter.widget-view+json": {
       "model_id": "8efd6cb5121a46f7a10cf9e5b535c7f3",
       "version_major": 2,
       "version_minor": 0
      },
      "text/plain": [
       "interactive(children=(IntSlider(value=27, description='z', max=55), Output()), _dom_classes=('widget-interact'…"
      ]
     },
     "metadata": {},
     "output_type": "display_data"
    }
   ],
   "source": [
    "img_T1 = sitk.ReadImage(img_T1)\n",
    "# To visualize the labels image in RGB with needs a image with 0-255 range\n",
    "img_T1_255 = sitk.Cast(sitk.RescaleIntensity(img_T1), sitk.sitkUInt8)\n",
    "myshow3d(img_T1)"
   ]
  },
  {
   "cell_type": "code",
   "execution_count": 13,
   "id": "77e8cfd2",
   "metadata": {},
   "outputs": [
    {
     "data": {
      "application/vnd.jupyter.widget-view+json": {
       "model_id": "f073c92478b4475c89cb883ea85b80b3",
       "version_major": 2,
       "version_minor": 0
      },
      "text/plain": [
       "interactive(children=(IntSlider(value=27, description='z', max=55), Output()), _dom_classes=('widget-interact'…"
      ]
     },
     "metadata": {},
     "output_type": "display_data"
    }
   ],
   "source": [
    "seg = sitk.ReadImage(seg)\n",
    "myshow(sitk.LabelOverlay(img_T1_255, seg), \"label\")"
   ]
  },
  {
   "cell_type": "code",
   "execution_count": null,
   "id": "f621d229",
   "metadata": {},
   "outputs": [],
   "source": []
  }
 ],
 "metadata": {
  "kernelspec": {
   "display_name": "Python 3 (ipykernel)",
   "language": "python",
   "name": "python3"
  },
  "language_info": {
   "codemirror_mode": {
    "name": "ipython",
    "version": 3
   },
   "file_extension": ".py",
   "mimetype": "text/x-python",
   "name": "python",
   "nbconvert_exporter": "python",
   "pygments_lexer": "ipython3",
   "version": "3.8.8"
  }
 },
 "nbformat": 4,
 "nbformat_minor": 5
}
