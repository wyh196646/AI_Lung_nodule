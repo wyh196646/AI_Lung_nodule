{
 "cells": [
  {
   "cell_type": "code",
   "execution_count": 2,
   "metadata": {},
   "outputs": [],
   "source": [
    "import tarfile\n",
    "import glob\n",
    "import shutil\n",
    "import SimpleITK as sitk\n",
    "import numpy as np\n",
    "import os\n",
    "from collections import Counter\n",
    "from multiprocessing import Pool\n",
    "from numpy.lib.npyio import save\n",
    "from numpy.lib.shape_base import _dstack_dispatcher\n",
    "from numpy.lib.type_check import imag\n",
    "from pathlib import Path\n",
    "import pathlib\n",
    "import multiprocessing\n",
    "import math\n",
    "import functools\n",
    "from functools import partial\n",
    "import time\n",
    "import tqdm\n",
    "from multiprocessing import Pool\n",
    "import os, time, random"
   ]
  },
  {
   "cell_type": "code",
   "execution_count": 3,
   "metadata": {},
   "outputs": [],
   "source": [
    "\n",
    "def get_file(root_path,all_files=[]):\n",
    "    '''\n",
    "    递归函数，遍历该文档目录和子目录下的所有文件，获取其path\n",
    "    '''\n",
    "    files = os.listdir(root_path)\n",
    "    for file in files:\n",
    "        if not os.path.isdir(root_path + '/' + file):   # not a dir\n",
    "            all_files.append(root_path + '/' + file)\n",
    "        else:  # is a dir\n",
    "            get_file((root_path+'/'+file),all_files)\n",
    "    return all_files\n",
    "\n",
    "# example\n",
    "path = '/data/wyh/影像数据EGFR1第二部分'\n",
    "all_path=get_file(path)\n"
   ]
  },
  {
   "cell_type": "code",
   "execution_count": 4,
   "metadata": {},
   "outputs": [],
   "source": [
    "temp=list(filter(lambda x:Path(x).suffix=='.tar',all_path))#过滤掉那部分重合的文件夹，只对压缩包进行处理\n",
    "temp=temp[1:]#这就是要处理的所有压缩包,第一个是已经解压过压缩包,基本上应该没有什么问题"
   ]
  },
  {
   "cell_type": "code",
   "execution_count": 5,
   "metadata": {},
   "outputs": [
    {
     "data": {
      "text/plain": [
       "['/data/wyh/影像数据EGFR1第二部分/Marked/POSITIVE/3-1marked1.tar',\n",
       " '/data/wyh/影像数据EGFR1第二部分/primary_new/predict_PFS/1-22_1-23.tar',\n",
       " '/data/wyh/影像数据EGFR1第二部分/primary_new/EGFR-negative/6-4_6-4_NIFTI.tar',\n",
       " '/data/wyh/影像数据EGFR1第二部分/primary_new/EGFR-negative/6-10_6-10_NIFTI_6-12_6-12_NIFTI.tar',\n",
       " '/data/wyh/影像数据EGFR1第二部分/primary_new/EGFR-negative/4-10_4-11_4-17_4-21.tar',\n",
       " '/data/wyh/影像数据EGFR1第二部分/primary_new/EGFR-negative/6-11_6-11-0_6-11_NIFTI.tar',\n",
       " '/data/wyh/影像数据EGFR1第二部分/primary_new/EGFR-positive/20191116positive.tar',\n",
       " '/data/wyh/影像数据EGFR1第二部分/primary_new/EGFR-positive/2-25_2-25left_2-28_2-28left.tar',\n",
       " '/data/wyh/影像数据EGFR1第二部分/primary_new/EGFR-positive/3-1No.1_3-1No2_3-1No3_3-1No4_3-1No5_3-5.tar']"
      ]
     },
     "execution_count": 5,
     "metadata": {},
     "output_type": "execute_result"
    }
   ],
   "source": [
    "temp"
   ]
  },
  {
   "cell_type": "code",
   "execution_count": 6,
   "metadata": {},
   "outputs": [],
   "source": [
    "\n",
    "def str_insert(str_origin, pos=9, str_add='_data'):\n",
    "    str_list = list(str_origin)    # 字符串转list\n",
    "    str_list.insert(pos, str_add)  # 在指定位置插入字符串\n",
    "    str_out = ''.join(str_list)    # 空字符连接\n",
    "    return  str_out"
   ]
  },
  {
   "cell_type": "code",
   "execution_count": 7,
   "metadata": {},
   "outputs": [],
   "source": [
    "def remove_suffix(path):\n",
    "    path = Path(path)\n",
    "    return path.with_suffix(\"\")"
   ]
  },
  {
   "cell_type": "code",
   "execution_count": 8,
   "metadata": {},
   "outputs": [],
   "source": [
    "object_path=list(map(partial(str_insert,pos=9,str_add='_data'),temp))#终于掌握了偏函数的用法，会自己用了，好开心，就是重新自定义函数的一个办法\n",
    "#这也是臆测的，结果就成了，他这里应该传递的是一个带参的函数\n",
    "object_path=list(map(remove_suffix,object_path))"
   ]
  },
  {
   "cell_type": "code",
   "execution_count": 9,
   "metadata": {},
   "outputs": [
    {
     "data": {
      "text/plain": [
       "[PosixPath('/data/wyh_data/影像数据EGFR1第二部分/Marked/POSITIVE/3-1marked1'),\n",
       " PosixPath('/data/wyh_data/影像数据EGFR1第二部分/primary_new/predict_PFS/1-22_1-23'),\n",
       " PosixPath('/data/wyh_data/影像数据EGFR1第二部分/primary_new/EGFR-negative/6-4_6-4_NIFTI'),\n",
       " PosixPath('/data/wyh_data/影像数据EGFR1第二部分/primary_new/EGFR-negative/6-10_6-10_NIFTI_6-12_6-12_NIFTI'),\n",
       " PosixPath('/data/wyh_data/影像数据EGFR1第二部分/primary_new/EGFR-negative/4-10_4-11_4-17_4-21'),\n",
       " PosixPath('/data/wyh_data/影像数据EGFR1第二部分/primary_new/EGFR-negative/6-11_6-11-0_6-11_NIFTI'),\n",
       " PosixPath('/data/wyh_data/影像数据EGFR1第二部分/primary_new/EGFR-positive/20191116positive'),\n",
       " PosixPath('/data/wyh_data/影像数据EGFR1第二部分/primary_new/EGFR-positive/2-25_2-25left_2-28_2-28left'),\n",
       " PosixPath('/data/wyh_data/影像数据EGFR1第二部分/primary_new/EGFR-positive/3-1No.1_3-1No2_3-1No3_3-1No4_3-1No5_3-5')]"
      ]
     },
     "execution_count": 9,
     "metadata": {},
     "output_type": "execute_result"
    }
   ],
   "source": [
    "object_path"
   ]
  },
  {
   "cell_type": "code",
   "execution_count": 10,
   "metadata": {},
   "outputs": [
    {
     "data": {
      "text/plain": [
       "['/data/wyh/影像数据EGFR1第二部分/Marked/POSITIVE/3-1marked1.tar',\n",
       " '/data/wyh/影像数据EGFR1第二部分/primary_new/predict_PFS/1-22_1-23.tar',\n",
       " '/data/wyh/影像数据EGFR1第二部分/primary_new/EGFR-negative/6-4_6-4_NIFTI.tar',\n",
       " '/data/wyh/影像数据EGFR1第二部分/primary_new/EGFR-negative/6-10_6-10_NIFTI_6-12_6-12_NIFTI.tar',\n",
       " '/data/wyh/影像数据EGFR1第二部分/primary_new/EGFR-negative/4-10_4-11_4-17_4-21.tar',\n",
       " '/data/wyh/影像数据EGFR1第二部分/primary_new/EGFR-negative/6-11_6-11-0_6-11_NIFTI.tar',\n",
       " '/data/wyh/影像数据EGFR1第二部分/primary_new/EGFR-positive/20191116positive.tar',\n",
       " '/data/wyh/影像数据EGFR1第二部分/primary_new/EGFR-positive/2-25_2-25left_2-28_2-28left.tar',\n",
       " '/data/wyh/影像数据EGFR1第二部分/primary_new/EGFR-positive/3-1No.1_3-1No2_3-1No3_3-1No4_3-1No5_3-5.tar']"
      ]
     },
     "execution_count": 10,
     "metadata": {},
     "output_type": "execute_result"
    }
   ],
   "source": [
    "temp"
   ]
  },
  {
   "cell_type": "code",
   "execution_count": 11,
   "metadata": {},
   "outputs": [
    {
     "data": {
      "text/plain": [
       "[PosixPath('/data/wyh_data/影像数据EGFR1第二部分/Marked/POSITIVE/3-1marked1'),\n",
       " PosixPath('/data/wyh_data/影像数据EGFR1第二部分/primary_new/predict_PFS/1-22_1-23'),\n",
       " PosixPath('/data/wyh_data/影像数据EGFR1第二部分/primary_new/EGFR-negative/6-4_6-4_NIFTI'),\n",
       " PosixPath('/data/wyh_data/影像数据EGFR1第二部分/primary_new/EGFR-negative/6-10_6-10_NIFTI_6-12_6-12_NIFTI'),\n",
       " PosixPath('/data/wyh_data/影像数据EGFR1第二部分/primary_new/EGFR-negative/4-10_4-11_4-17_4-21'),\n",
       " PosixPath('/data/wyh_data/影像数据EGFR1第二部分/primary_new/EGFR-negative/6-11_6-11-0_6-11_NIFTI'),\n",
       " PosixPath('/data/wyh_data/影像数据EGFR1第二部分/primary_new/EGFR-positive/20191116positive'),\n",
       " PosixPath('/data/wyh_data/影像数据EGFR1第二部分/primary_new/EGFR-positive/2-25_2-25left_2-28_2-28left'),\n",
       " PosixPath('/data/wyh_data/影像数据EGFR1第二部分/primary_new/EGFR-positive/3-1No.1_3-1No2_3-1No3_3-1No4_3-1No5_3-5')]"
      ]
     },
     "execution_count": 11,
     "metadata": {},
     "output_type": "execute_result"
    }
   ],
   "source": [
    "object_path"
   ]
  },
  {
   "cell_type": "code",
   "execution_count": 17,
   "metadata": {},
   "outputs": [
    {
     "name": "stderr",
     "output_type": "stream",
     "text": [
      "9it [1:41:09, 674.43s/it]\n"
     ]
    },
    {
     "name": "stdout",
     "output_type": "stream",
     "text": [
      "test\n"
     ]
    }
   ],
   "source": [
    "import time\n",
    "from tqdm import tqdm, trange\n",
    "\n",
    "def extract_tar(tar_path,out_path=[]):\n",
    "    # print(tar_path)\n",
    "    # print('******')\n",
    "    # print(out_path)\n",
    "    for i,j in tqdm(zip(tar_path,out_path)):\n",
    "        tf = tarfile.open(i)\n",
    "        tf.extractall(j)\n",
    "\n",
    "\n",
    "if __name__==\"__main__\":\n",
    "    pool = Pool(processes=10)\n",
    "    # for i,j  in tqdm(zip(temp,object_path)):\n",
    "    pool.apply(extract_tar, args=(temp,object_path))\n",
    "    print('test')"
   ]
  },
  {
   "cell_type": "code",
   "execution_count": 16,
   "metadata": {},
   "outputs": [
    {
     "name": "stdout",
     "output_type": "stream",
     "text": [
      "/data/wyh/影像数据EGFR1第二部分/Marked/POSITIVE/3-1marked1.tar/data/wyh/影像数据EGFR1第二部分/primary_new/EGFR-positive/20191116positive.tar/data/wyh/影像数据EGFR1第二部分/primary_new/predict_PFS/1-22_1-23.tar/data/wyh/影像数据EGFR1第二部分/primary_new/EGFR-negative/6-4_6-4_NIFTI.tar/data/wyh/影像数据EGFR1第二部分/primary_new/EGFR-negative/6-10_6-10_NIFTI_6-12_6-12_NIFTI.tar/data/wyh/影像数据EGFR1第二部分/primary_new/EGFR-negative/4-10_4-11_4-17_4-21.tar/data/wyh/影像数据EGFR1第二部分/primary_new/EGFR-negative/6-11_6-11-0_6-11_NIFTI.tar/data/wyh/影像数据EGFR1第二部分/primary_new/EGFR-positive/2-25_2-25left_2-28_2-28left.tar/data/wyh/影像数据EGFR1第二部分/primary_new/EGFR-positive/3-1No.1_3-1No2_3-1No3_3-1No4_3-1No5_3-5.tar\n",
      "\n",
      "\n",
      "\n",
      "\n",
      "\n",
      "\n",
      "******\n",
      "******\n",
      "************************\n",
      "******\n",
      "\n",
      "\n",
      "\n",
      "\n",
      "******\n",
      "[PosixPath('/data/wyh_data/影像数据EGFR1第二部分/Marked/POSITIVE/3-1marked1'), PosixPath('/data/wyh_data/影像数据EGFR1第二部分/primary_new/predict_PFS/1-22_1-23'), PosixPath('/data/wyh_data/影像数据EGFR1第二部分/primary_new/EGFR-negative/6-4_6-4_NIFTI'), PosixPath('/data/wyh_data/影像数据EGFR1第二部分/primary_new/EGFR-negative/6-10_6-10_NIFTI_6-12_6-12_NIFTI'), PosixPath('/data/wyh_data/影像数据EGFR1第二部分/primary_new/EGFR-negative/4-10_4-11_4-17_4-21'), PosixPath('/data/wyh_data/影像数据EGFR1第二部分/primary_new/EGFR-negative/6-11_6-11-0_6-11_NIFTI'), PosixPath('/data/wyh_data/影像数据EGFR1第二部分/primary_new/EGFR-positive/20191116positive'), PosixPath('/data/wyh_data/影像数据EGFR1第二部分/primary_new/EGFR-positive/2-25_2-25left_2-28_2-28left'), PosixPath('/data/wyh_data/影像数据EGFR1第二部分/primary_new/EGFR-positive/3-1No.1_3-1No2_3-1No3_3-1No4_3-1No5_3-5')][PosixPath('/data/wyh_data/影像数据EGFR1第二部分/Marked/POSITIVE/3-1marked1'), PosixPath('/data/wyh_data/影像数据EGFR1第二部分/primary_new/predict_PFS/1-22_1-23'), PosixPath('/data/wyh_data/影像数据EGFR1第二部分/primary_new/EGFR-negative/6-4_6-4_NIFTI'), PosixPath('/data/wyh_data/影像数据EGFR1第二部分/primary_new/EGFR-negative/6-10_6-10_NIFTI_6-12_6-12_NIFTI'), PosixPath('/data/wyh_data/影像数据EGFR1第二部分/primary_new/EGFR-negative/4-10_4-11_4-17_4-21'), PosixPath('/data/wyh_data/影像数据EGFR1第二部分/primary_new/EGFR-negative/6-11_6-11-0_6-11_NIFTI'), PosixPath('/data/wyh_data/影像数据EGFR1第二部分/primary_new/EGFR-positive/20191116positive'), PosixPath('/data/wyh_data/影像数据EGFR1第二部分/primary_new/EGFR-positive/2-25_2-25left_2-28_2-28left'), PosixPath('/data/wyh_data/影像数据EGFR1第二部分/primary_new/EGFR-positive/3-1No.1_3-1No2_3-1No3_3-1No4_3-1No5_3-5')][PosixPath('/data/wyh_data/影像数据EGFR1第二部分/Marked/POSITIVE/3-1marked1'), PosixPath('/data/wyh_data/影像数据EGFR1第二部分/primary_new/predict_PFS/1-22_1-23'), PosixPath('/data/wyh_data/影像数据EGFR1第二部分/primary_new/EGFR-negative/6-4_6-4_NIFTI'), PosixPath('/data/wyh_data/影像数据EGFR1第二部分/primary_new/EGFR-negative/6-10_6-10_NIFTI_6-12_6-12_NIFTI'), PosixPath('/data/wyh_data/影像数据EGFR1第二部分/primary_new/EGFR-negative/4-10_4-11_4-17_4-21'), PosixPath('/data/wyh_data/影像数据EGFR1第二部分/primary_new/EGFR-negative/6-11_6-11-0_6-11_NIFTI'), PosixPath('/data/wyh_data/影像数据EGFR1第二部分/primary_new/EGFR-positive/20191116positive'), PosixPath('/data/wyh_data/影像数据EGFR1第二部分/primary_new/EGFR-positive/2-25_2-25left_2-28_2-28left'), PosixPath('/data/wyh_data/影像数据EGFR1第二部分/primary_new/EGFR-positive/3-1No.1_3-1No2_3-1No3_3-1No4_3-1No5_3-5')][PosixPath('/data/wyh_data/影像数据EGFR1第二部分/Marked/POSITIVE/3-1marked1'), PosixPath('/data/wyh_data/影像数据EGFR1第二部分/primary_new/predict_PFS/1-22_1-23'), PosixPath('/data/wyh_data/影像数据EGFR1第二部分/primary_new/EGFR-negative/6-4_6-4_NIFTI'), PosixPath('/data/wyh_data/影像数据EGFR1第二部分/primary_new/EGFR-negative/6-10_6-10_NIFTI_6-12_6-12_NIFTI'), PosixPath('/data/wyh_data/影像数据EGFR1第二部分/primary_new/EGFR-negative/4-10_4-11_4-17_4-21'), PosixPath('/data/wyh_data/影像数据EGFR1第二部分/primary_new/EGFR-negative/6-11_6-11-0_6-11_NIFTI'), PosixPath('/data/wyh_data/影像数据EGFR1第二部分/primary_new/EGFR-positive/20191116positive'), PosixPath('/data/wyh_data/影像数据EGFR1第二部分/primary_new/EGFR-positive/2-25_2-25left_2-28_2-28left'), PosixPath('/data/wyh_data/影像数据EGFR1第二部分/primary_new/EGFR-positive/3-1No.1_3-1No2_3-1No3_3-1No4_3-1No5_3-5')]******[PosixPath('/data/wyh_data/影像数据EGFR1第二部分/Marked/POSITIVE/3-1marked1'), PosixPath('/data/wyh_data/影像数据EGFR1第二部分/primary_new/predict_PFS/1-22_1-23'), PosixPath('/data/wyh_data/影像数据EGFR1第二部分/primary_new/EGFR-negative/6-4_6-4_NIFTI'), PosixPath('/data/wyh_data/影像数据EGFR1第二部分/primary_new/EGFR-negative/6-10_6-10_NIFTI_6-12_6-12_NIFTI'), PosixPath('/data/wyh_data/影像数据EGFR1第二部分/primary_new/EGFR-negative/4-10_4-11_4-17_4-21'), PosixPath('/data/wyh_data/影像数据EGFR1第二部分/primary_new/EGFR-negative/6-11_6-11-0_6-11_NIFTI'), PosixPath('/data/wyh_data/影像数据EGFR1第二部分/primary_new/EGFR-positive/20191116positive'), PosixPath('/data/wyh_data/影像数据EGFR1第二部分/primary_new/EGFR-positive/2-25_2-25left_2-28_2-28left'), PosixPath('/data/wyh_data/影像数据EGFR1第二部分/primary_new/EGFR-positive/3-1No.1_3-1No2_3-1No3_3-1No4_3-1No5_3-5')][PosixPath('/data/wyh_data/影像数据EGFR1第二部分/Marked/POSITIVE/3-1marked1'), PosixPath('/data/wyh_data/影像数据EGFR1第二部分/primary_new/predict_PFS/1-22_1-23'), PosixPath('/data/wyh_data/影像数据EGFR1第二部分/primary_new/EGFR-negative/6-4_6-4_NIFTI'), PosixPath('/data/wyh_data/影像数据EGFR1第二部分/primary_new/EGFR-negative/6-10_6-10_NIFTI_6-12_6-12_NIFTI'), PosixPath('/data/wyh_data/影像数据EGFR1第二部分/primary_new/EGFR-negative/4-10_4-11_4-17_4-21'), PosixPath('/data/wyh_data/影像数据EGFR1第二部分/primary_new/EGFR-negative/6-11_6-11-0_6-11_NIFTI'), PosixPath('/data/wyh_data/影像数据EGFR1第二部分/primary_new/EGFR-positive/20191116positive'), PosixPath('/data/wyh_data/影像数据EGFR1第二部分/primary_new/EGFR-positive/2-25_2-25left_2-28_2-28left'), PosixPath('/data/wyh_data/影像数据EGFR1第二部分/primary_new/EGFR-positive/3-1No.1_3-1No2_3-1No3_3-1No4_3-1No5_3-5')]\n",
      "[PosixPath('/data/wyh_data/影像数据EGFR1第二部分/Marked/POSITIVE/3-1marked1'), PosixPath('/data/wyh_data/影像数据EGFR1第二部分/primary_new/predict_PFS/1-22_1-23'), PosixPath('/data/wyh_data/影像数据EGFR1第二部分/primary_new/EGFR-negative/6-4_6-4_NIFTI'), PosixPath('/data/wyh_data/影像数据EGFR1第二部分/primary_new/EGFR-negative/6-10_6-10_NIFTI_6-12_6-12_NIFTI'), PosixPath('/data/wyh_data/影像数据EGFR1第二部分/primary_new/EGFR-negative/4-10_4-11_4-17_4-21'), PosixPath('/data/wyh_data/影像数据EGFR1第二部分/primary_new/EGFR-negative/6-11_6-11-0_6-11_NIFTI'), PosixPath('/data/wyh_data/影像数据EGFR1第二部分/primary_new/EGFR-positive/20191116positive'), PosixPath('/data/wyh_data/影像数据EGFR1第二部分/primary_new/EGFR-positive/2-25_2-25left_2-28_2-28left'), PosixPath('/data/wyh_data/影像数据EGFR1第二部分/primary_new/EGFR-positive/3-1No.1_3-1No2_3-1No3_3-1No4_3-1No5_3-5')]\n",
      "\n",
      "\n",
      "\n",
      "\n",
      "\n",
      "\n",
      "[PosixPath('/data/wyh_data/影像数据EGFR1第二部分/Marked/POSITIVE/3-1marked1'), PosixPath('/data/wyh_data/影像数据EGFR1第二部分/primary_new/predict_PFS/1-22_1-23'), PosixPath('/data/wyh_data/影像数据EGFR1第二部分/primary_new/EGFR-negative/6-4_6-4_NIFTI'), PosixPath('/data/wyh_data/影像数据EGFR1第二部分/primary_new/EGFR-negative/6-10_6-10_NIFTI_6-12_6-12_NIFTI'), PosixPath('/data/wyh_data/影像数据EGFR1第二部分/primary_new/EGFR-negative/4-10_4-11_4-17_4-21'), PosixPath('/data/wyh_data/影像数据EGFR1第二部分/primary_new/EGFR-negative/6-11_6-11-0_6-11_NIFTI'), PosixPath('/data/wyh_data/影像数据EGFR1第二部分/primary_new/EGFR-positive/20191116positive'), PosixPath('/data/wyh_data/影像数据EGFR1第二部分/primary_new/EGFR-positive/2-25_2-25left_2-28_2-28left'), PosixPath('/data/wyh_data/影像数据EGFR1第二部分/primary_new/EGFR-positive/3-1No.1_3-1No2_3-1No3_3-1No4_3-1No5_3-5')]\n",
      "[PosixPath('/data/wyh_data/影像数据EGFR1第二部分/Marked/POSITIVE/3-1marked1'), PosixPath('/data/wyh_data/影像数据EGFR1第二部分/primary_new/predict_PFS/1-22_1-23'), PosixPath('/data/wyh_data/影像数据EGFR1第二部分/primary_new/EGFR-negative/6-4_6-4_NIFTI'), PosixPath('/data/wyh_data/影像数据EGFR1第二部分/primary_new/EGFR-negative/6-10_6-10_NIFTI_6-12_6-12_NIFTI'), PosixPath('/data/wyh_data/影像数据EGFR1第二部分/primary_new/EGFR-negative/4-10_4-11_4-17_4-21'), PosixPath('/data/wyh_data/影像数据EGFR1第二部分/primary_new/EGFR-negative/6-11_6-11-0_6-11_NIFTI'), PosixPath('/data/wyh_data/影像数据EGFR1第二部分/primary_new/EGFR-positive/20191116positive'), PosixPath('/data/wyh_data/影像数据EGFR1第二部分/primary_new/EGFR-positive/2-25_2-25left_2-28_2-28left'), PosixPath('/data/wyh_data/影像数据EGFR1第二部分/primary_new/EGFR-positive/3-1No.1_3-1No2_3-1No3_3-1No4_3-1No5_3-5')]\n"
     ]
    },
    {
     "name": "stderr",
     "output_type": "stream",
     "text": [
      "0it [00:00, ?it/s]"
     ]
    },
    {
     "name": "stdout",
     "output_type": "stream",
     "text": [
      "\n"
     ]
    },
    {
     "name": "stderr",
     "output_type": "stream",
     "text": [
      "0it [00:00, ?it/s]\n",
      "0it [00:00, ?it/s]\n",
      "0it [00:00, ?it/s]\n",
      "0it [00:00, ?it/s]\n",
      "\n",
      "0it [00:00, ?it/s]\n",
      "\n",
      "\n",
      "0it [00:00, ?it/s]\n"
     ]
    },
    {
     "ename": "IsADirectoryError",
     "evalue": "[Errno 21] Is a directory: '/'",
     "output_type": "error",
     "traceback": [
      "\u001b[0;31m---------------------------------------------------------------------------\u001b[0m",
      "\u001b[0;31mRemoteTraceback\u001b[0m                           Traceback (most recent call last)",
      "\u001b[0;31mRemoteTraceback\u001b[0m: \n\"\"\"\nTraceback (most recent call last):\n  File \"/home/wyh21/anaconda3/lib/python3.8/multiprocessing/pool.py\", line 125, in worker\n    result = (True, func(*args, **kwds))\n  File \"/home/wyh21/anaconda3/lib/python3.8/multiprocessing/pool.py\", line 48, in mapstar\n    return list(map(*args))\n  File \"<ipython-input-16-c6c0ac5a55b8>\", line 9, in extract_tar\n    tf = tarfile.open(str(i))\n  File \"/home/wyh21/anaconda3/lib/python3.8/tarfile.py\", line 1603, in open\n    return func(name, \"r\", fileobj, **kwargs)\n  File \"/home/wyh21/anaconda3/lib/python3.8/tarfile.py\", line 1667, in gzopen\n    fileobj = GzipFile(name, mode + \"b\", compresslevel, fileobj)\n  File \"/home/wyh21/anaconda3/lib/python3.8/gzip.py\", line 173, in __init__\n    fileobj = self.myfileobj = builtins.open(filename, mode or 'rb')\nIsADirectoryError: [Errno 21] Is a directory: '/'\n\"\"\"",
      "\nThe above exception was the direct cause of the following exception:\n",
      "\u001b[0;31mIsADirectoryError\u001b[0m                         Traceback (most recent call last)",
      "\u001b[0;32m<ipython-input-16-c6c0ac5a55b8>\u001b[0m in \u001b[0;36m<module>\u001b[0;34m\u001b[0m\n\u001b[1;32m     21\u001b[0m \u001b[0;32mif\u001b[0m  \u001b[0m__name__\u001b[0m \u001b[0;34m==\u001b[0m \u001b[0;34m\"__main__\"\u001b[0m\u001b[0;34m:\u001b[0m\u001b[0;34m\u001b[0m\u001b[0;34m\u001b[0m\u001b[0m\n\u001b[1;32m     22\u001b[0m     \u001b[0mpool\u001b[0m \u001b[0;34m=\u001b[0m \u001b[0mPool\u001b[0m\u001b[0;34m(\u001b[0m\u001b[0mprocesses\u001b[0m\u001b[0;34m=\u001b[0m\u001b[0;36m96\u001b[0m\u001b[0;34m)\u001b[0m       \u001b[0;31m#定义最大的进程数\u001b[0m\u001b[0;34m\u001b[0m\u001b[0;34m\u001b[0m\u001b[0m\n\u001b[0;32m---> 23\u001b[0;31m     \u001b[0mpool\u001b[0m\u001b[0;34m.\u001b[0m\u001b[0mmap\u001b[0m\u001b[0;34m(\u001b[0m\u001b[0mpartial\u001b[0m\u001b[0;34m(\u001b[0m\u001b[0mextract_tar\u001b[0m\u001b[0;34m,\u001b[0m\u001b[0mout_path\u001b[0m\u001b[0;34m=\u001b[0m\u001b[0mobject_path\u001b[0m\u001b[0;34m)\u001b[0m\u001b[0;34m,\u001b[0m\u001b[0mtemp\u001b[0m\u001b[0;34m)\u001b[0m          \u001b[0;31m#p必须是一个可迭代变量。\u001b[0m\u001b[0;34m\u001b[0m\u001b[0;34m\u001b[0m\u001b[0m\n\u001b[0m\u001b[1;32m     24\u001b[0m     \u001b[0mpool\u001b[0m\u001b[0;34m.\u001b[0m\u001b[0mclose\u001b[0m\u001b[0;34m(\u001b[0m\u001b[0;34m)\u001b[0m\u001b[0;34m\u001b[0m\u001b[0;34m\u001b[0m\u001b[0m\n\u001b[1;32m     25\u001b[0m     \u001b[0mpool\u001b[0m\u001b[0;34m.\u001b[0m\u001b[0mjoin\u001b[0m\u001b[0;34m(\u001b[0m\u001b[0;34m)\u001b[0m\u001b[0;34m\u001b[0m\u001b[0;34m\u001b[0m\u001b[0m\n",
      "\u001b[0;32m~/anaconda3/lib/python3.8/multiprocessing/pool.py\u001b[0m in \u001b[0;36mmap\u001b[0;34m(self, func, iterable, chunksize)\u001b[0m\n\u001b[1;32m    362\u001b[0m         \u001b[0;32min\u001b[0m \u001b[0ma\u001b[0m \u001b[0mlist\u001b[0m \u001b[0mthat\u001b[0m \u001b[0;32mis\u001b[0m \u001b[0mreturned\u001b[0m\u001b[0;34m.\u001b[0m\u001b[0;34m\u001b[0m\u001b[0;34m\u001b[0m\u001b[0m\n\u001b[1;32m    363\u001b[0m         '''\n\u001b[0;32m--> 364\u001b[0;31m         \u001b[0;32mreturn\u001b[0m \u001b[0mself\u001b[0m\u001b[0;34m.\u001b[0m\u001b[0m_map_async\u001b[0m\u001b[0;34m(\u001b[0m\u001b[0mfunc\u001b[0m\u001b[0;34m,\u001b[0m \u001b[0miterable\u001b[0m\u001b[0;34m,\u001b[0m \u001b[0mmapstar\u001b[0m\u001b[0;34m,\u001b[0m \u001b[0mchunksize\u001b[0m\u001b[0;34m)\u001b[0m\u001b[0;34m.\u001b[0m\u001b[0mget\u001b[0m\u001b[0;34m(\u001b[0m\u001b[0;34m)\u001b[0m\u001b[0;34m\u001b[0m\u001b[0;34m\u001b[0m\u001b[0m\n\u001b[0m\u001b[1;32m    365\u001b[0m \u001b[0;34m\u001b[0m\u001b[0m\n\u001b[1;32m    366\u001b[0m     \u001b[0;32mdef\u001b[0m \u001b[0mstarmap\u001b[0m\u001b[0;34m(\u001b[0m\u001b[0mself\u001b[0m\u001b[0;34m,\u001b[0m \u001b[0mfunc\u001b[0m\u001b[0;34m,\u001b[0m \u001b[0miterable\u001b[0m\u001b[0;34m,\u001b[0m \u001b[0mchunksize\u001b[0m\u001b[0;34m=\u001b[0m\u001b[0;32mNone\u001b[0m\u001b[0;34m)\u001b[0m\u001b[0;34m:\u001b[0m\u001b[0;34m\u001b[0m\u001b[0;34m\u001b[0m\u001b[0m\n",
      "\u001b[0;32m~/anaconda3/lib/python3.8/multiprocessing/pool.py\u001b[0m in \u001b[0;36mget\u001b[0;34m(self, timeout)\u001b[0m\n\u001b[1;32m    769\u001b[0m             \u001b[0;32mreturn\u001b[0m \u001b[0mself\u001b[0m\u001b[0;34m.\u001b[0m\u001b[0m_value\u001b[0m\u001b[0;34m\u001b[0m\u001b[0;34m\u001b[0m\u001b[0m\n\u001b[1;32m    770\u001b[0m         \u001b[0;32melse\u001b[0m\u001b[0;34m:\u001b[0m\u001b[0;34m\u001b[0m\u001b[0;34m\u001b[0m\u001b[0m\n\u001b[0;32m--> 771\u001b[0;31m             \u001b[0;32mraise\u001b[0m \u001b[0mself\u001b[0m\u001b[0;34m.\u001b[0m\u001b[0m_value\u001b[0m\u001b[0;34m\u001b[0m\u001b[0;34m\u001b[0m\u001b[0m\n\u001b[0m\u001b[1;32m    772\u001b[0m \u001b[0;34m\u001b[0m\u001b[0m\n\u001b[1;32m    773\u001b[0m     \u001b[0;32mdef\u001b[0m \u001b[0m_set\u001b[0m\u001b[0;34m(\u001b[0m\u001b[0mself\u001b[0m\u001b[0;34m,\u001b[0m \u001b[0mi\u001b[0m\u001b[0;34m,\u001b[0m \u001b[0mobj\u001b[0m\u001b[0;34m)\u001b[0m\u001b[0;34m:\u001b[0m\u001b[0;34m\u001b[0m\u001b[0;34m\u001b[0m\u001b[0m\n",
      "\u001b[0;31mIsADirectoryError\u001b[0m: [Errno 21] Is a directory: '/'"
     ]
    }
   ],
   "source": [
    "# import time\n",
    "# from tqdm import tqdm, trange\n",
    "\n",
    "# def extract_tar(tar_path,out_path=[]):\n",
    "#     print(tar_path)\n",
    "#     print('******')\n",
    "#     print(out_path)\n",
    "#     for i,j in tqdm(zip(tar_path,out_path)):\n",
    "#         tf = tarfile.open(str(i))\n",
    "#         tf.extractall(str(j))\n",
    "\n",
    "\n",
    "# # if __name__==\"__main__\":\n",
    "# #     pool = Pool(processes=10)\n",
    "# #     # for i,j  in tqdm(zip(temp,object_path)):\n",
    "# #     pool.apply_async(extract_tar, args=(temp,object_path))\n",
    "# #     print('test')\n",
    "\n",
    "# # from multiprocessing import Pool\n",
    "\n",
    "# if  __name__ == \"__main__\":\n",
    "#     pool = Pool(processes=96)       #定义最大的进程数\n",
    "#     pool.map(partial(extract_tar,out_path=object_path),temp)          #p必须是一个可迭代变量。\n",
    "#     pool.close()\n",
    "#     pool.join()\n"
   ]
  }
 ],
 "metadata": {
  "interpreter": {
   "hash": "e9a28b5282ca099c83f06b33901119e5f23aea169786359f0026a8eeaf235bcb"
  },
  "kernelspec": {
   "display_name": "Python 3.8.8 64-bit ('base': conda)",
   "language": "python",
   "name": "python3"
  },
  "language_info": {
   "codemirror_mode": {
    "name": "ipython",
    "version": 3
   },
   "file_extension": ".py",
   "mimetype": "text/x-python",
   "name": "python",
   "nbconvert_exporter": "python",
   "pygments_lexer": "ipython3",
   "version": "3.8.8"
  },
  "orig_nbformat": 4
 },
 "nbformat": 4,
 "nbformat_minor": 2
}
