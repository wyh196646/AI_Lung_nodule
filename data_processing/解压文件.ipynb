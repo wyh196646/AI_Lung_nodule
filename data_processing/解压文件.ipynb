{
 "cells": [
  {
   "cell_type": "code",
   "execution_count": 22,
   "metadata": {},
   "outputs": [],
   "source": [
    "import tarfile\n",
    "import glob\n",
    "import shutil\n",
    "import SimpleITK as sitk\n",
    "import numpy as np\n",
    "import os\n",
    "from collections import Counter\n",
    "from multiprocessing import Pool\n",
    "from numpy.lib.npyio import save\n",
    "from numpy.lib.shape_base import _dstack_dispatcher\n",
    "from numpy.lib.type_check import imag\n",
    "from pathlib import Path\n",
    "import pathlib\n",
    "import multiprocessing\n",
    "import math\n",
    "import functools\n",
    "from functools import partial\n",
    "import time\n",
    "import tqdm"
   ]
  },
  {
   "cell_type": "code",
   "execution_count": 15,
   "metadata": {},
   "outputs": [],
   "source": [
    "\n",
    "def get_file(root_path,all_files=[]):\n",
    "    '''\n",
    "    递归函数，遍历该文档目录和子目录下的所有文件，获取其path\n",
    "    '''\n",
    "    files = os.listdir(root_path)\n",
    "    for file in files:\n",
    "        if not os.path.isdir(root_path + '/' + file):   # not a dir\n",
    "            all_files.append(root_path + '/' + file)\n",
    "        else:  # is a dir\n",
    "            get_file((root_path+'/'+file),all_files)\n",
    "    return all_files\n",
    "\n",
    "# example\n",
    "path = '/data/wyh/影像数据EGFR1第二部分'\n",
    "all_path=get_file(path)\n"
   ]
  },
  {
   "cell_type": "code",
   "execution_count": 63,
   "metadata": {},
   "outputs": [],
   "source": [
    "temp=list(filter(lambda x:Path(x).suffix=='.tar',all_path))#过滤掉那部分重合的文件夹，只对压缩包进行处理\n",
    "temp=temp[1:]#这就是要处理的所有压缩包,第一个是已经解压过压缩包,基本上应该没有什么问题"
   ]
  },
  {
   "cell_type": "code",
   "execution_count": 62,
   "metadata": {},
   "outputs": [],
   "source": [
    "\n",
    "def str_insert(str_origin, pos=9, str_add='_data'):\n",
    "    str_list = list(str_origin)    # 字符串转list\n",
    "    str_list.insert(pos, str_add)  # 在指定位置插入字符串\n",
    "    str_out = ''.join(str_list)    # 空字符连接\n",
    "    return  str_out"
   ]
  },
  {
   "cell_type": "code",
   "execution_count": 64,
   "metadata": {},
   "outputs": [],
   "source": [
    "def remove_suffix(path):\n",
    "    path = Path(path)\n",
    "    return path.with_suffix(\"\")"
   ]
  },
  {
   "cell_type": "code",
   "execution_count": 65,
   "metadata": {},
   "outputs": [],
   "source": [
    "object_path=list(map(partial(str_insert,pos=9,str_add='_data'),temp))#终于掌握了偏函数的用法，会自己用了，好开心，就是重新自定义函数的一个办法\n",
    "#这也是臆测的，结果就成了，他这里应该传递的是一个带参的函数\n",
    "object_path=list(map(remove_suffix,object_path))"
   ]
  },
  {
   "cell_type": "code",
   "execution_count": 66,
   "metadata": {},
   "outputs": [
    {
     "data": {
      "text/plain": [
       "[PosixPath('/data/wyh_data/影像数据EGFR1第二部分/Marked/POSITIVE/3-1marked1'),\n",
       " PosixPath('/data/wyh_data/影像数据EGFR1第二部分/primary_new/predict_PFS/1-22_1-23'),\n",
       " PosixPath('/data/wyh_data/影像数据EGFR1第二部分/primary_new/EGFR-negative/6-4_6-4_NIFTI'),\n",
       " PosixPath('/data/wyh_data/影像数据EGFR1第二部分/primary_new/EGFR-negative/6-10_6-10_NIFTI_6-12_6-12_NIFTI'),\n",
       " PosixPath('/data/wyh_data/影像数据EGFR1第二部分/primary_new/EGFR-negative/4-10_4-11_4-17_4-21'),\n",
       " PosixPath('/data/wyh_data/影像数据EGFR1第二部分/primary_new/EGFR-negative/6-11_6-11-0_6-11_NIFTI'),\n",
       " PosixPath('/data/wyh_data/影像数据EGFR1第二部分/primary_new/EGFR-positive/20191116positive'),\n",
       " PosixPath('/data/wyh_data/影像数据EGFR1第二部分/primary_new/EGFR-positive/2-25_2-25left_2-28_2-28left'),\n",
       " PosixPath('/data/wyh_data/影像数据EGFR1第二部分/primary_new/EGFR-positive/3-1No.1_3-1No2_3-1No3_3-1No4_3-1No5_3-5')]"
      ]
     },
     "execution_count": 66,
     "metadata": {},
     "output_type": "execute_result"
    }
   ],
   "source": [
    "object_path"
   ]
  },
  {
   "cell_type": "code",
   "execution_count": 68,
   "metadata": {},
   "outputs": [],
   "source": [
    "def extract_tar(tar_path,out_path):\n",
    "    for i,j in zip(tar_path,out_path):\n",
    "        tf = tarfile.open(i)\n",
    "        tf.extractall(i,j)\n",
    "\n",
    "\n",
    "if __name__ == '__main__':\n",
    "    with Pool(96) as p:\n",
    "        print(p.map(partial(extract_tar,out_path=object_path),temp))\n",
    "\n"
   ]
  },
  {
   "cell_type": "code",
   "execution_count": 5,
   "metadata": {},
   "outputs": [
    {
     "name": "stdout",
     "output_type": "stream",
     "text": [
      "Help on method extract in module tarfile:\n",
      "\n",
      "extract(member, path='', set_attrs=True, *, numeric_owner=False) method of tarfile.TarFile instance\n",
      "    Extract a member from the archive to the current working directory,\n",
      "    using its full name. Its file information is extracted as accurately\n",
      "    as possible. `member' may be a filename or a TarInfo object. You can\n",
      "    specify a different directory using `path'. File attributes (owner,\n",
      "    mtime, mode) are set unless `set_attrs' is False. If `numeric_owner`\n",
      "    is True, only the numbers for user/group names are used and not\n",
      "    the names.\n",
      "\n"
     ]
    }
   ],
   "source": [
    "help(tf.extract)"
   ]
  },
  {
   "cell_type": "code",
   "execution_count": 3,
   "metadata": {},
   "outputs": [
    {
     "data": {
      "text/plain": [
       "<tarfile.TarFile at 0x7f09c44825e0>"
      ]
     },
     "execution_count": 3,
     "metadata": {},
     "output_type": "execute_result"
    }
   ],
   "source": [
    "tf"
   ]
  }
 ],
 "metadata": {
  "interpreter": {
   "hash": "e9a28b5282ca099c83f06b33901119e5f23aea169786359f0026a8eeaf235bcb"
  },
  "kernelspec": {
   "display_name": "Python 3.8.8 64-bit ('base': conda)",
   "language": "python",
   "name": "python3"
  },
  "language_info": {
   "codemirror_mode": {
    "name": "ipython",
    "version": 3
   },
   "file_extension": ".py",
   "mimetype": "text/x-python",
   "name": "python",
   "nbconvert_exporter": "python",
   "pygments_lexer": "ipython3",
   "version": "3.8.8"
  },
  "orig_nbformat": 4
 },
 "nbformat": 4,
 "nbformat_minor": 2
}
