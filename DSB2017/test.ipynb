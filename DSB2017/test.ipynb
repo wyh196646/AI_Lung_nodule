{
 "cells": [],
 "metadata": {
  "interpreter": {
   "hash": "e9a28b5282ca099c83f06b33901119e5f23aea169786359f0026a8eeaf235bcb"
  },
  "kernelspec": {
   "display_name": "Python 3.8.8 64-bit ('base': conda)",
   "language": "python",
   "name": "python3"
  },
  "language_info": {
   "codemirror_mode": {
    "name": "ipython",
    "version": 3
   },
   "file_extension": ".py",
   "mimetype": "text/x-python",
   "name": "python",
   "nbconvert_exporter": "python",
   "pygments_lexer": "ipython3",
   "version": "3.8.8"
  },
  "orig_nbformat": 4
 },
 "nbformat": 4,
 "nbformat_minor": 2
}
